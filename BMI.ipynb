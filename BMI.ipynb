{
 "cells": [
  {
   "cell_type": "markdown",
   "metadata": {},
   "source": [
    "# Tính chỉ số BMI"
   ]
  },
  {
   "cell_type": "code",
   "execution_count": 1,
   "metadata": {},
   "outputs": [
    {
     "name": "stdin",
     "output_type": "stream",
     "text": [
      "What’s your height (m)?  1.85\n",
      "What’s your weight (m)?  87\n"
     ]
    }
   ],
   "source": [
    "height = float(input(\"What’s your height (m)? \"))\n",
    "weight = float(input(\"What’s your weight (m)? \"))"
   ]
  },
  {
   "cell_type": "code",
   "execution_count": 2,
   "metadata": {},
   "outputs": [
    {
     "name": "stdout",
     "output_type": "stream",
     "text": [
      "Chi so BMI: 23.51\n"
     ]
    }
   ],
   "source": [
    "bmi = weight / (height * 2)\n",
    "print(\"Chi so BMI: {:.2f}\".format(bmi))"
   ]
  },
  {
   "cell_type": "code",
   "execution_count": 3,
   "metadata": {},
   "outputs": [
    {
     "name": "stdout",
     "output_type": "stream",
     "text": [
      "Binh thuong\n"
     ]
    }
   ],
   "source": [
    "if bmi < 16:\n",
    "    print(\"Gay cap do III\")\n",
    "elif bmi >= 16 and bmi < 17:\n",
    "    print(\"Gay cap do II\")\n",
    "elif bmi >= 17 and bmi < 18.5:\n",
    "    print(\"Gay cap do I\")\n",
    "elif bmi >= 18.5 and bmi < 25: \n",
    "    print(\"Binh thuong\")\n",
    "elif bmi >= 25 and bmi < 30: \n",
    "    print(\"THỪA CÂN\")\n",
    "elif bmi >= 30 and bmi < 35: \n",
    "    print(\"Beo phi cap do I\")\n",
    "elif bmi >= 35 and bmi < 40:\n",
    "    print(\"Beo phi cap do II\")\n",
    "else: \n",
    "    print(\"Beo phi cap do III\")"
   ]
  },
  {
   "cell_type": "code",
   "execution_count": null,
   "metadata": {},
   "outputs": [],
   "source": []
  }
 ],
 "metadata": {
  "kernelspec": {
   "display_name": "Python 3",
   "language": "python",
   "name": "python3"
  },
  "language_info": {
   "codemirror_mode": {
    "name": "ipython",
    "version": 3
   },
   "file_extension": ".py",
   "mimetype": "text/x-python",
   "name": "python",
   "nbconvert_exporter": "python",
   "pygments_lexer": "ipython3",
   "version": "3.7.6"
  }
 },
 "nbformat": 4,
 "nbformat_minor": 4
}
