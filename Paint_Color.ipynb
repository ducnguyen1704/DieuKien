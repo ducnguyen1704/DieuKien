{
 "cells": [
  {
   "cell_type": "markdown",
   "metadata": {},
   "source": [
    "# Paint Color"
   ]
  },
  {
   "cell_type": "code",
   "execution_count": 2,
   "metadata": {},
   "outputs": [],
   "source": [
    "import turtle\n",
    "import random"
   ]
  },
  {
   "cell_type": "code",
   "execution_count": 20,
   "metadata": {},
   "outputs": [
    {
     "name": "stdout",
     "output_type": "stream",
     "text": [
      "2\n"
     ]
    }
   ],
   "source": [
    "number = random.uniform(0,3)\n",
    "# chuyển đổi qua số nguyên\n",
    "int_number = int(number)\n",
    "print(int_number)"
   ]
  },
  {
   "cell_type": "code",
   "execution_count": 3,
   "metadata": {},
   "outputs": [],
   "source": [
    "t = turtle.Turtle()\n",
    "turtle.bgcolor(\"pink\")\n",
    "t.pensize(3)"
   ]
  },
  {
   "cell_type": "code",
   "execution_count": 22,
   "metadata": {},
   "outputs": [],
   "source": [
    "if int_number < 1:\n",
    "    t.fillcolor(\"green\")\n",
    "    t.begin_fill()\n",
    "    t.circle(100)\n",
    "    t.end_fill()\n",
    "elif int_number < 2:\n",
    "    t.fillcolor(\"yellow\")\n",
    "    t.begin_fill()\n",
    "    t.circle(100)\n",
    "    t.end_fill()\n",
    "else:\n",
    "    t.fillcolor(\"red\")\n",
    "    t.begin_fill()\n",
    "    t.circle(100)\n",
    "    t.end_fill()"
   ]
  },
  {
   "cell_type": "code",
   "execution_count": null,
   "metadata": {},
   "outputs": [],
   "source": []
  }
 ],
 "metadata": {
  "kernelspec": {
   "display_name": "Python 3",
   "language": "python",
   "name": "python3"
  },
  "language_info": {
   "codemirror_mode": {
    "name": "ipython",
    "version": 3
   },
   "file_extension": ".py",
   "mimetype": "text/x-python",
   "name": "python",
   "nbconvert_exporter": "python",
   "pygments_lexer": "ipython3",
   "version": "3.7.6"
  }
 },
 "nbformat": 4,
 "nbformat_minor": 4
}
