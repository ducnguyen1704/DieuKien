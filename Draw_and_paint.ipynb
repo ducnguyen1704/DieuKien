{
 "cells": [
  {
   "cell_type": "markdown",
   "metadata": {},
   "source": [
    "# Draw And Paint"
   ]
  },
  {
   "cell_type": "code",
   "execution_count": 11,
   "metadata": {},
   "outputs": [],
   "source": [
    "import math\n",
    "import turtle"
   ]
  },
  {
   "cell_type": "code",
   "execution_count": 12,
   "metadata": {},
   "outputs": [
    {
     "name": "stdin",
     "output_type": "stream",
     "text": [
      "Nhập vào hình vẽ bạn muốn chọn(circle hoặc square):   circle\n"
     ]
    }
   ],
   "source": [
    "# Bài toán nhập hình và tô màu\n",
    "shapeInput = input(\"Nhập vào hình vẽ bạn muốn chọn(circle hoặc square):  \")"
   ]
  },
  {
   "cell_type": "code",
   "execution_count": 13,
   "metadata": {},
   "outputs": [
    {
     "name": "stdin",
     "output_type": "stream",
     "text": [
      "Nhập vào màu sắc bạn muốn tô:  blue\n",
      "Nhập bán kính 100\n"
     ]
    },
    {
     "name": "stdout",
     "output_type": "stream",
     "text": [
      "Bạn đang vẽ hình tròn có bán kính là 100 pixel\n"
     ]
    }
   ],
   "source": [
    "t = turtle.Turtle()\n",
    "t.pensize(3)\n",
    "if shapeInput == \"circle\" or shapeInput == \"square\" :\n",
    "    color = input(\"Nhập vào màu sắc bạn muốn tô: \") # Màu sắc là red, blue, white hoặc #000000\n",
    "    if color == \"red\" or color == \"blue\" or color == \"yellow\": \n",
    "        if shapeInput == \"square\":\n",
    "            w = int(input(\"Nhập độ dài 1 cạnh: \"))\n",
    "            t.fillcolor(color)\n",
    "            t.begin_fill()\n",
    "            for i in range(4):\n",
    "                t.forward(w)\n",
    "                t.left(90)\n",
    "            t.end_fill()\n",
    "            print(\"Hình chữ nhật có cạnh là {} và màu {} \".format(w,color))\n",
    "        else:\n",
    "            r = int(input(\"Nhập bán kính\"))\n",
    "            t.fillcolor(color)\n",
    "            t.begin_fill()\n",
    "            t.circle(r)\n",
    "            t.end_fill()\n",
    "            print(\"Bạn đang vẽ hình tròn có bán kính là {} pixel\".format(r))\n",
    "    else:\n",
    "        print(\"Sorry, I don't have this color\")\n",
    "else:\n",
    "    print(\"Sorry, I don't have this shape!!!\")"
   ]
  },
  {
   "cell_type": "code",
   "execution_count": null,
   "metadata": {},
   "outputs": [],
   "source": []
  },
  {
   "cell_type": "code",
   "execution_count": null,
   "metadata": {},
   "outputs": [],
   "source": []
  }
 ],
 "metadata": {
  "kernelspec": {
   "display_name": "Python 3",
   "language": "python",
   "name": "python3"
  },
  "language_info": {
   "codemirror_mode": {
    "name": "ipython",
    "version": 3
   },
   "file_extension": ".py",
   "mimetype": "text/x-python",
   "name": "python",
   "nbconvert_exporter": "python",
   "pygments_lexer": "ipython3",
   "version": "3.7.6"
  }
 },
 "nbformat": 4,
 "nbformat_minor": 4
}
