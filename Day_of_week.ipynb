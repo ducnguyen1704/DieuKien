{
 "cells": [
  {
   "cell_type": "markdown",
   "metadata": {},
   "source": [
    "# Day of the week"
   ]
  },
  {
   "cell_type": "code",
   "execution_count": 10,
   "metadata": {},
   "outputs": [
    {
     "name": "stdin",
     "output_type": "stream",
     "text": [
      "Nhập các số từ 1 đến 7 ứng với các ngày trong tuần:  2\n"
     ]
    }
   ],
   "source": [
    "Day = int(input(\"Nhập các số từ 1 đến 7 ứng với các ngày trong tuần: \"))\n"
   ]
  },
  {
   "cell_type": "code",
   "execution_count": 11,
   "metadata": {},
   "outputs": [
    {
     "name": "stdout",
     "output_type": "stream",
     "text": [
      "Tuesday\n"
     ]
    }
   ],
   "source": [
    "if Day < 1 or Day > 7:\n",
    "    print(\"error, out of range\")\n",
    "else:\n",
    "    if Day == 1:\n",
    "        print(\"Monday\")\n",
    "    elif Day == 2:\n",
    "        print(\"Tuesday\")\n",
    "    elif Day == 3:\n",
    "        print(\"Wednessday\")\n",
    "    elif Day == 4:\n",
    "        print(\"Thursday\")\n",
    "    elif Day == 5:\n",
    "        print(\"Friday\")\n",
    "    elif Day == 6:\n",
    "        print(\"Saturday\")\n",
    "    elif Day == 7:\n",
    "        print(\"Sunday\")"
   ]
  },
  {
   "cell_type": "code",
   "execution_count": null,
   "metadata": {},
   "outputs": [],
   "source": []
  }
 ],
 "metadata": {
  "kernelspec": {
   "display_name": "Python 3",
   "language": "python",
   "name": "python3"
  },
  "language_info": {
   "codemirror_mode": {
    "name": "ipython",
    "version": 3
   },
   "file_extension": ".py",
   "mimetype": "text/x-python",
   "name": "python",
   "nbconvert_exporter": "python",
   "pygments_lexer": "ipython3",
   "version": "3.7.6"
  }
 },
 "nbformat": 4,
 "nbformat_minor": 4
}
